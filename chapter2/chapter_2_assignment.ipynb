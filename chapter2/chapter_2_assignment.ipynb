{
 "cells": [
  {
   "cell_type": "code",
   "execution_count": 5,
   "metadata": {},
   "outputs": [],
   "source": [
    "import pandas as pd\n",
    "from pandas import DataFrame"
   ]
  },
  {
   "cell_type": "code",
   "execution_count": 6,
   "metadata": {},
   "outputs": [],
   "source": [
    "a = [-1, 5, 1, 1, -2, 0, -1, 4, 2]"
   ]
  },
  {
   "cell_type": "code",
   "execution_count": 7,
   "metadata": {},
   "outputs": [
    {
     "name": "stdout",
     "output_type": "stream",
     "text": [
      "   value\n",
      "4     -2\n",
      "0     -1\n",
      "6     -1\n",
      "5      0\n",
      "2      1\n",
      "3      1\n",
      "8      2\n",
      "7      4\n",
      "1      5\n",
      "          value\n",
      "count  9.000000\n",
      "mean   1.000000\n",
      "std    2.345208\n",
      "min   -2.000000\n",
      "25%   -1.000000\n",
      "50%    1.000000\n",
      "75%    2.000000\n",
      "max    5.000000\n"
     ]
    }
   ],
   "source": [
    "df = pd.DataFrame(a)\n",
    "df.columns = ['value']\n",
    "sorted = df.sort_values(by=['value'])\n",
    "print(sorted)\n",
    "basic_vals = df.describe(percentiles=[.25,.50,.75])\n",
    "print(basic_vals)"
   ]
  },
  {
   "cell_type": "code",
   "execution_count": 8,
   "metadata": {},
   "outputs": [
    {
     "name": "stdout",
     "output_type": "stream",
     "text": [
      "std_sample= value    2.211083\n",
      "dtype: float64 std_pop_est= value    2.345208\n",
      "dtype: float64\n"
     ]
    }
   ],
   "source": [
    "std_sample= df.std(ddof=0)\n",
    "std_pop_est = df.std(ddof=1)\n",
    "print ('std_sample=', std_sample, 'std_pop_est=', std_pop_est)"
   ]
  },
  {
   "cell_type": "code",
   "execution_count": null,
   "metadata": {},
   "outputs": [],
   "source": []
  },
  {
   "cell_type": "code",
   "execution_count": null,
   "metadata": {},
   "outputs": [],
   "source": []
  }
 ],
 "metadata": {
  "kernelspec": {
   "display_name": "Python 3",
   "language": "python",
   "name": "python3"
  },
  "language_info": {
   "codemirror_mode": {
    "name": "ipython",
    "version": 3
   },
   "file_extension": ".py",
   "mimetype": "text/x-python",
   "name": "python",
   "nbconvert_exporter": "python",
   "pygments_lexer": "ipython3",
   "version": "3.7.1"
  }
 },
 "nbformat": 4,
 "nbformat_minor": 2
}
